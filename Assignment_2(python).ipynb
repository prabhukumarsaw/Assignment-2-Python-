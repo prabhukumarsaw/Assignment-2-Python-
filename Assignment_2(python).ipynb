{
  "nbformat": 4,
  "nbformat_minor": 0,
  "metadata": {
    "colab": {
      "name": "Assignment 2(python).ipynb",
      "provenance": [],
      "collapsed_sections": []
    },
    "kernelspec": {
      "name": "python3",
      "display_name": "Python 3"
    }
  },
  "cells": [
    {
      "cell_type": "code",
      "metadata": {
        "id": "sdJpA_Zf9THj"
      },
      "source": [
        "#Question 1: Write a Python program to remove empty List from List\r\n",
        "\r\n",
        "\t# example of a list\r\n",
        "\t\t\tlist = [{1, 2}, ('a'), ['1.1', '2.2']]\r\n",
        "\r\n",
        "\t# clearing the list\r\n",
        "\t\t\tdel list[:]\r\n",
        "\r\n",
        "\t\t\tprint('List:', list)\r\n",
        "\t\t\t"
      ],
      "execution_count": null,
      "outputs": []
    },
    {
      "cell_type": "code",
      "metadata": {
        "id": "iv6qV6sSED41"
      },
      "source": [
        "#Question 2: Write a Python program to remove all duplicates words from a given sentence\r\n",
        "\t\t\t\r\n",
        "\t\t\t\r\n",
        "\t\t\t\r\n",
        "sent = \"prabhu Roshan, Divya, Parth, Pawan, Parth, Rahul, Prabhu\"\r\n",
        "l = sent.split() \r\n",
        "k = [] \r\n",
        "for i in l: \r\n",
        "  \r\n",
        "    if (sent.count(i)>1 and (i not in k)or sent.count(i)==1): \r\n",
        "        k.append(i) \r\n",
        "print(' '.join(k)) \r\n",
        "\r\n",
        "\r\n"
      ],
      "execution_count": null,
      "outputs": []
    },
    {
      "cell_type": "code",
      "metadata": {
        "id": "4ABous06EGA6"
      },
      "source": [
        "#Question 3 : Write a Python program to find all occurrences of a character in the given \r\n",
        "\r\n",
        "#using dictionary\r\n",
        "\t\tinp_str = \"Prabhu\"\r\n",
        "\t\tf = {}  \r\n",
        "\t\t\r\n",
        "\t\tfor ele in inp_str:  \r\n",
        "    if ele in f:  \r\n",
        "        f[ele] += 1\r\n",
        "    else:  \r\n",
        "        f[ele] = 1\r\n",
        "    \r\n",
        " \r\n",
        "print (\"Occurrence : \"+ str(f))  "
      ],
      "execution_count": null,
      "outputs": []
    }
  ]
}